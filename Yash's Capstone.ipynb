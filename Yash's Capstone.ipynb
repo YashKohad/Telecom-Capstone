{
 "cells": [
  {
   "cell_type": "markdown",
   "metadata": {},
   "source": [
    "# INSAID Telecom"
   ]
  },
  {
   "cell_type": "markdown",
   "metadata": {},
   "source": [
    "## Project Description"
   ]
  },
  {
   "cell_type": "markdown",
   "metadata": {},
   "source": [
    "It's always wonderful to see services customized to your needs.\n",
    "Businesses try to understand your behavior and adjust their offerings\n",
    "so as to ensure you feel attached to their services.\n",
    "\n",
    "\n",
    "InsaidTelecom, one of the leading telecom players, understands that customizing offering\n",
    "is very important for its business to stay competitive.\n",
    "Currently, InsaidTelecom is seeking to leverage behavioral data from more than 60% of the 50 million mobile devices active daily in India\n",
    "to help its clients better understand and interact with their audiences.\n",
    "\n",
    "In this consulting assignment, Insaidians are expected to build a dashboard to understand\n",
    "user's demographic characteristics based on their mobile usage, geolocation, and mobile device properties.\n",
    "Doing so will help millions of developers and brand advertisers around the world pursue\n",
    "data-driven marketing efforts which are relevant to their users and catered to their preferences."
   ]
  },
  {
   "cell_type": "markdown",
   "metadata": {},
   "source": [
    "## Consulting Goals"
   ]
  },
  {
   "cell_type": "markdown",
   "metadata": {},
   "source": [
    "To help the customer the consultants are expected to have depth of clarity in the underlying data.\n",
    "How much effort has been put into cleansing and purifying the data will decide how closely have you looked at the data.\n",
    "How detailed is the observation stated in the submission report and finally how well a group presents their consulting journey.\n",
    "\n",
    "Please remember this is an analytics consulting hence, your efforts in terms of\n",
    "finding user behavior is going to directly impact the company's offerings.\n",
    "Do help the company understand what is the\n",
    "right way forward and suggest actionable insights from marketing and product terms."
   ]
  },
  {
   "cell_type": "markdown",
   "metadata": {},
   "source": [
    "## Data Description"
   ]
  },
  {
   "cell_type": "raw",
   "metadata": {},
   "source": [
    "In this assignment, you are going to study the demographics of a user (gender and age) based on their app download and usage behaviors.\n",
    "The Data is collected from mobile apps that use InsaidTelecom services. Full recognition and consent from individual user of those apps have been obtained,\n",
    "and appropriate anonymization have been performed to protect privacy. Due to confidentiality, we won't provide details on how the gender and age data was obtained.\n",
    "Please treat them as accurate ground truth for prediction. The data schema can be represented in the following table:\n",
    "\n",
    "\n",
    "gender_age_train - Devices and their respective user gender, age and age_group\n",
    "\n",
    "phone_brand_device_model - device ids, brand, and models phone_brand: note that few brands are in Chinese\n",
    "\n",
    "Brand Name\tBrand English Mapping\n",
    "'华为'\t'Huawei'\n",
    "'小米'\t'Xiaomi'\n",
    "'三星'\t'Samsung'\n",
    "'vivo'\t'vivo'\n",
    "'OPPO'\t'OPPO'\n",
    "'魅族'\t'Meizu'\n",
    "'酷派'\t'Coolpad'\n",
    "'乐视'\t'LeEco'\n",
    "'联想 '\t'Lenovo'\n",
    "'HTC'\t'HTC'\n",
    "events_data - when a user uses mobile on INSAID Telecom network, the event gets logged in this data.\n",
    "Each event has an event id, location (lat/long), and the event corresponds to frequency of mobile usage.\n",
    "timestamp: when the user is using the mobile."
   ]
  },
  {
   "cell_type": "markdown",
   "metadata": {},
   "source": [
    "## Data Fetching from Database and storing in data frames"
   ]
  },
  {
   "cell_type": "code",
   "execution_count": 1,
   "metadata": {},
   "outputs": [],
   "source": [
    "import mysql.connector"
   ]
  },
  {
   "cell_type": "code",
   "execution_count": 2,
   "metadata": {},
   "outputs": [],
   "source": [
    "import pandas as pd"
   ]
  },
  {
   "cell_type": "code",
   "execution_count": 3,
   "metadata": {},
   "outputs": [
    {
     "name": "stdout",
     "output_type": "stream",
     "text": [
      "<mysql.connector.connection.MySQLConnection object at 0x000002794AEED8B0>\n"
     ]
    }
   ],
   "source": [
    "mydb = mysql.connector.connect(\n",
    "  host=\"cpanel.insaid.co\",\n",
    "  user=\"student\",\n",
    "  password=\"student\",\n",
    "  database='Capstone1'  \n",
    ")\n",
    "\n",
    "print(mydb)"
   ]
  },
  {
   "cell_type": "code",
   "execution_count": 4,
   "metadata": {},
   "outputs": [],
   "source": [
    "\n",
    "# Creating the cursor to point each instance of the database\n",
    "\n",
    "my_cursor = mydb.cursor()"
   ]
  },
  {
   "cell_type": "code",
   "execution_count": 5,
   "metadata": {},
   "outputs": [],
   "source": [
    "# Fetching all the data from gender_age_train table using cursor object\n",
    "\n",
    "my_cursor.execute('select * from gender_age_train')"
   ]
  },
  {
   "cell_type": "markdown",
   "metadata": {},
   "source": [
    "###  Loading  gender_age_train data"
   ]
  },
  {
   "cell_type": "code",
   "execution_count": 6,
   "metadata": {},
   "outputs": [],
   "source": [
    "# Store the data available in cursor object in gender_age_train variable\n",
    "\n",
    "gender_age_train = my_cursor.fetchall()"
   ]
  },
  {
   "cell_type": "code",
   "execution_count": 7,
   "metadata": {},
   "outputs": [],
   "source": [
    "# Converting gender_age_train variable into a Dataframe\n",
    "\n",
    "gender_age_train = pd.DataFrame(gender_age_train)"
   ]
  },
  {
   "cell_type": "code",
   "execution_count": 8,
   "metadata": {},
   "outputs": [],
   "source": [
    "gender_age_train.rename(columns={gender_age_train.columns[0]:'Devices',gender_age_train.columns[1]:'Gender',gender_age_train.columns[2]:'Age',gender_age_train.columns[3]:'AgeGroup'},inplace=True)"
   ]
  },
  {
   "cell_type": "markdown",
   "metadata": {},
   "source": [
    "###  Loading  phone_brand_device_model data"
   ]
  },
  {
   "cell_type": "code",
   "execution_count": 9,
   "metadata": {},
   "outputs": [],
   "source": [
    "\n",
    "# Fetching all the data from phone_brand_device_model table using cursor object\n",
    "\n",
    "my_cursor.execute('select * from phone_brand_device_model')"
   ]
  },
  {
   "cell_type": "code",
   "execution_count": 10,
   "metadata": {},
   "outputs": [],
   "source": [
    "# Store the data available in cursor object in phone_brand_device_model variable\n",
    "\n",
    "phone_brand_device_model = my_cursor.fetchall()"
   ]
  },
  {
   "cell_type": "code",
   "execution_count": 11,
   "metadata": {},
   "outputs": [],
   "source": [
    "# Converting phone_brand_device_model variable into a Dataframe\n",
    "\n",
    "phone_brand_device_model = pd.DataFrame(phone_brand_device_model)"
   ]
  },
  {
   "cell_type": "code",
   "execution_count": 12,
   "metadata": {},
   "outputs": [],
   "source": [
    "phone_brand_device_model.rename(columns={phone_brand_device_model.columns[0]:'Devices',phone_brand_device_model.columns[1]:'Brand',phone_brand_device_model.columns[2]:'Model'},inplace=True)"
   ]
  },
  {
   "cell_type": "code",
   "execution_count": 13,
   "metadata": {},
   "outputs": [
    {
     "data": {
      "text/plain": [
       "array(['vivo', '小米', 'OPPO', '三星', '酷派', '联想 ', '华为', '奇酷', '魅族', '斐讯',\n",
       "       '中国移动', 'HTC', '天语', '至尊宝', 'LG', '欧博信', '优米', 'ZUK', '努比亚', '惠普',\n",
       "       '尼比鲁', '美图', '乡米', '摩托罗拉', '梦米', '锤子', '富可视', '乐视', '海信', '百立丰',\n",
       "       '一加', '语信', '海尔', '酷比', '纽曼', '波导', '朵唯', '聆韵', 'TCL', '酷珀', '爱派尔',\n",
       "       'LOGO', '青葱', '果米', '华硕', '昂达', '艾优尼', '康佳', '优购', '邦华', '赛博宇华',\n",
       "       '黑米', 'Lovme', '先锋', 'E派', '神舟', '诺基亚', '普耐尔', '糖葫芦', '亿通', '欧新',\n",
       "       '米奇', '酷比魔方', '蓝魔', '小杨树', '贝尔丰', '糯米', '米歌', 'E人E本', '西米', '大Q',\n",
       "       '台电', '飞利浦', '唯米', '大显', '长虹', '维图', '青橙', '本为', '虾米', '夏新', '帷幄',\n",
       "       '百加', 'SUGAR', '欧奇', '世纪星', '智镁', '欧比', '基伍', '飞秒', '德赛', '易派',\n",
       "       '谷歌', '金星数码', '广信', '诺亚信', 'MIL', '白米', '大可乐', '宝捷讯', '优语', '首云',\n",
       "       '瑞米', '瑞高', '沃普丰', '摩乐', '鲜米', '凯利通', '唯比', '欧沃', '丰米', '恒宇丰',\n",
       "       '奥克斯', '西门子', '欧乐迪', 'PPTV'], dtype=object)"
      ]
     },
     "execution_count": 13,
     "metadata": {},
     "output_type": "execute_result"
    }
   ],
   "source": [
    "phone_brand_device_model.Brand.unique()"
   ]
  },
  {
   "cell_type": "code",
   "execution_count": 14,
   "metadata": {},
   "outputs": [],
   "source": [
    "from google_trans_new import google_translator"
   ]
  },
  {
   "cell_type": "code",
   "execution_count": 15,
   "metadata": {},
   "outputs": [],
   "source": [
    "translator=google_translator()"
   ]
  },
  {
   "cell_type": "code",
   "execution_count": 16,
   "metadata": {},
   "outputs": [],
   "source": [
    "def fx(x):\n",
    "    return translator.translate(x,lang_tgt='en')\n",
    "     "
   ]
  },
  {
   "cell_type": "code",
   "execution_count": 17,
   "metadata": {},
   "outputs": [],
   "source": [
    "def gx(x):\n",
    "    if x=='vivo':\n",
    "        return 'Vivo'\n",
    "    elif x=='小米':\n",
    "        return 'Millet'\n",
    "    elif x=='三星':\n",
    "        return 'Samsung'\n",
    "    elif x=='OPPO':\n",
    "        return 'OPPO'\n",
    "    elif x=='酷派':\n",
    "        return 'Cool'\n",
    "    elif x=='联想':\n",
    "        return 'Association'\n",
    "    elif x=='华为':\n",
    "        return 'Huawei'\n",
    "    elif x=='奇酷':\n",
    "        return 'Cage'\n",
    "    elif x=='魅族':\n",
    "        return 'Charming'\n",
    "    elif x=='斐讯':\n",
    "        return 'Film'\n",
    "    elif x=='中国移动':\n",
    "        return 'China Mobile'\n",
    "    elif x=='HTC':\n",
    "        return 'HTC'\n",
    "    elif x=='天语':\n",
    "        return 'Amagatarai'\n",
    "    elif x=='至尊宝':\n",
    "        return 'Honored'\n",
    "    elif x=='LG':\n",
    "        return 'LG'\n",
    "    elif x=='欧博信':\n",
    "        return 'Osoxin'\n",
    "    elif x=='优米':\n",
    "        return 'Quality rice'\n",
    "    elif x=='ZUK':\n",
    "        return 'ZUK'\n",
    "    elif x=='努比亚':\n",
    "        return 'Nubia'\n",
    "    elif x=='惠普':\n",
    "        return 'HP'\n",
    "    elif x=='尼比鲁':\n",
    "        return 'Nipro'\n",
    "    elif x=='美图':\n",
    "        return 'Beautiful map'\n",
    "    elif x=='乡米':\n",
    "        return 'Rural rice'\n",
    "    elif x=='摩托罗拉':\n",
    "        return 'Motorola'\n",
    "    elif x=='梦米':\n",
    "        return 'Messenger'\n",
    "    elif x=='锤子':\n",
    "        return 'hammer'\n",
    "    elif x=='富可视':\n",
    "        return 'Rich view'\n",
    "    elif x=='乐视':\n",
    "        return 'Music'\n",
    "    elif x=='海信':\n",
    "        return 'Hisense'\n",
    "    elif x=='百立丰':\n",
    "        return 'Bailun'\n",
    "    elif x=='一加':\n",
    "        return 'Plus'\n",
    "    elif x=='语信':\n",
    "        return 'Circularity'\n",
    "    elif x=='海尔':\n",
    "        return 'Haier'\n",
    "    elif x=='酷比':\n",
    "        return 'Cool than'\n",
    "    elif x=='纽曼':\n",
    "        return 'Newman'\n",
    "    elif x=='波导':\n",
    "        return 'waveguide'\n",
    "    elif x=='朵唯':\n",
    "        return 'Only'\n",
    "    elif x=='聆韵':\n",
    "        return 'Hear rhyme'\n",
    "    elif x=='TCL':\n",
    "        return 'TCL'\n",
    "    elif x=='酷珀':\n",
    "        return 'Severe'\n",
    "    elif x=='爱派尔':\n",
    "        return 'Ai Pike'\n",
    "    elif x=='LOGO':\n",
    "        return 'LOGO'\n",
    "    elif x=='青葱':\n",
    "        return 'Shallot'\n",
    "    elif x=='果米':\n",
    "        return 'Fruit rice'\n",
    "    elif x=='华硕':\n",
    "        return 'ASUS'\n",
    "    elif x=='昂达':\n",
    "        return 'Onda'\n",
    "    elif x=='艾优尼':\n",
    "        return 'Aiyini'\n",
    "    elif x=='康佳':\n",
    "        return 'Konka'\n",
    "    elif x=='优购':\n",
    "        return 'Best purchase'\n",
    "    elif x=='邦华':\n",
    "        return 'Banghua'\n",
    "    elif x=='赛博宇华':\n",
    "        return 'Sai Bo Yuhua'\n",
    "    elif x=='黑米':\n",
    "        return 'black rice'\n",
    "    elif x=='Lovme':\n",
    "        return 'Lovme'\n",
    "    elif x=='先锋':\n",
    "        return 'pioneer'\n",
    "    elif x=='E派':\n",
    "        return 'E-send'\n",
    "    elif x=='神舟':\n",
    "        return 'Shenzhou'\n",
    "    elif x=='诺基亚':\n",
    "        return 'Nokia'\n",
    "    elif x=='普耐尔':\n",
    "        return 'Poire'\n",
    "    elif x=='糖葫芦':\n",
    "        return 'Sugar'\n",
    "    elif x=='亿通':\n",
    "        return 'Vanity'\n",
    "    elif x=='欧新':\n",
    "        return 'European new'\n",
    "    elif x=='米奇':\n",
    "        return 'Mickey'\n",
    "    elif x=='酷比魔方':\n",
    "        return 'Cool than Rubik'\n",
    "    elif x=='蓝魔':\n",
    "        return 'Blue demon'\n",
    "    elif x=='小杨树':\n",
    "        return 'Small poplar'\n",
    "    elif x=='贝尔丰':\n",
    "        return 'Bell Feng'\n",
    "    elif x=='糯米':\n",
    "        return 'Glutinous rice'\n",
    "    elif x=='米歌':\n",
    "        return 'Mi song'\n",
    "    elif x=='E人E本':\n",
    "        return 'E people e'\n",
    "    elif x=='西米':\n",
    "        return 'Simi'\n",
    "    elif x=='大Q':\n",
    "        return 'Big Q'\n",
    "    elif x=='台电':\n",
    "        return 'Platform'\n",
    "    elif x=='飞利浦':\n",
    "        return 'Philips'\n",
    "    elif x=='唯米':\n",
    "        return 'Mi'\n",
    "    elif x=='大显':\n",
    "        return 'Large display'\n",
    "    elif x=='长虹':\n",
    "        return 'Changhong'\n",
    "    elif x=='维图':\n",
    "        return 'Dimension'\n",
    "    elif x=='青橙':\n",
    "        return 'Orange'\n",
    "    elif x=='本为':\n",
    "        return 'This is'\n",
    "    elif x=='虾米':\n",
    "        return 'Shrimp'\n",
    "    elif x=='夏新':\n",
    "        return 'Summer new'\n",
    "    elif x=='帷幄':\n",
    "        return 'Curtain'\n",
    "    elif x=='百加':\n",
    "        return 'Plus'\n",
    "    elif x=='SUGAR':\n",
    "        return 'SUGAR'\n",
    "    elif x=='欧奇':\n",
    "        return 'Ouqi'\n",
    "    elif x=='世纪星':\n",
    "        return 'Century star'\n",
    "    elif x=='智镁':\n",
    "        return 'Smart'\n",
    "    elif x=='欧比':\n",
    "        return 'Europa'\n",
    "    elif x=='基伍':\n",
    "        return 'Base'\n",
    "    elif x=='飞秒':\n",
    "        return 'Femtosecond'\n",
    "    elif x=='德赛':\n",
    "        return 'German'\n",
    "    elif x=='易派':\n",
    "        return 'Easy to send'\n",
    "    elif x=='谷歌':\n",
    "        return 'Google'\n",
    "    elif x=='金星数码':\n",
    "        return 'Venus Digital'\n",
    "    elif x=='广信':\n",
    "        return 'Widely believed'\n",
    "    elif x=='诺亚信':\n",
    "        return 'Noah'\n",
    "    elif x=='MIL':\n",
    "        return 'ONE THOUSAND'\n",
    "    elif x=='白米':\n",
    "        return 'White rice'\n",
    "    elif x=='大可乐':\n",
    "        return 'Cola'\n",
    "    elif x=='宝捷讯':\n",
    "        return 'Baojiexun'\n",
    "    elif x=='优语':\n",
    "        return 'Pros'\n",
    "    elif x=='首云':\n",
    "        return 'First cloud'\n",
    "    elif x=='瑞米':\n",
    "        return 'Rice'\n",
    "    elif x=='瑞高':\n",
    "        return 'Rui'\n",
    "    elif x=='沃普丰':\n",
    "        return 'Wormfront'\n",
    "    elif x=='摩乐':\n",
    "        return 'Music'\n",
    "    elif x=='鲜米':\n",
    "        return 'Fresh rice'\n",
    "    elif x=='凯利通':\n",
    "        return 'Kelly'\n",
    "    elif x=='唯比':\n",
    "        return 'Only one'\n",
    "    elif x=='欧沃':\n",
    "        return 'Ouvo'\n",
    "    elif x=='丰米':\n",
    "        return 'Rich rice'\n",
    "    elif x=='恒宇丰':\n",
    "        return 'Hengyufeng'\n",
    "    elif x=='奥克斯':\n",
    "        return 'Ox'\n",
    "    elif x=='西门子':\n",
    "        return 'Siemens'\n",
    "    elif x=='欧乐迪':\n",
    "        return 'Oeri'\n",
    "    elif x=='PPTV':\n",
    "        return 'PPTV'\n",
    "    else: \n",
    "        return x"
   ]
  },
  {
   "cell_type": "code",
   "execution_count": 18,
   "metadata": {},
   "outputs": [],
   "source": [
    "phone_brand_device_model['BrandEng']=phone_brand_device_model.Brand.apply(gx)"
   ]
  },
  {
   "cell_type": "markdown",
   "metadata": {},
   "source": [
    "###  Loading events data"
   ]
  },
  {
   "cell_type": "code",
   "execution_count": 19,
   "metadata": {},
   "outputs": [],
   "source": [
    "events_data = pd.read_csv('events_data.csv')"
   ]
  },
  {
   "cell_type": "code",
   "execution_count": 20,
   "metadata": {},
   "outputs": [],
   "source": [
    "events_data.rename(columns={'event_id':'Event_ID','device_id':'Device_ID','timestamp':'Timestamp','longitude':'Longitude','latitude':'Latitude','city':'City','state':'State'},inplace=True)"
   ]
  },
  {
   "cell_type": "markdown",
   "metadata": {},
   "source": [
    "###  Filtering Delhi events data"
   ]
  },
  {
   "cell_type": "code",
   "execution_count": 21,
   "metadata": {},
   "outputs": [],
   "source": [
    "delhi_events_data=events_data[events_data.State=='Delhi']"
   ]
  },
  {
   "cell_type": "markdown",
   "metadata": {},
   "source": [
    "# The Four Dataframes are:\n",
    "\n",
    "### 1. events_data\n",
    "### 2. delhi_events_data\n",
    "### 3. gender_age_train\n",
    "### 4. phone_brand_device_model"
   ]
  },
  {
   "cell_type": "code",
   "execution_count": 22,
   "metadata": {},
   "outputs": [
    {
     "data": {
      "text/html": [
       "<div>\n",
       "<style scoped>\n",
       "    .dataframe tbody tr th:only-of-type {\n",
       "        vertical-align: middle;\n",
       "    }\n",
       "\n",
       "    .dataframe tbody tr th {\n",
       "        vertical-align: top;\n",
       "    }\n",
       "\n",
       "    .dataframe thead th {\n",
       "        text-align: right;\n",
       "    }\n",
       "</style>\n",
       "<table border=\"1\" class=\"dataframe\">\n",
       "  <thead>\n",
       "    <tr style=\"text-align: right;\">\n",
       "      <th></th>\n",
       "      <th>Event_ID</th>\n",
       "      <th>Device_ID</th>\n",
       "      <th>Timestamp</th>\n",
       "      <th>Longitude</th>\n",
       "      <th>Latitude</th>\n",
       "      <th>City</th>\n",
       "      <th>State</th>\n",
       "    </tr>\n",
       "  </thead>\n",
       "  <tbody>\n",
       "    <tr>\n",
       "      <th>0</th>\n",
       "      <td>2765368</td>\n",
       "      <td>2.973348e+18</td>\n",
       "      <td>2016-05-07 22:52:05</td>\n",
       "      <td>77.225676</td>\n",
       "      <td>28.730140</td>\n",
       "      <td>Delhi</td>\n",
       "      <td>Delhi</td>\n",
       "    </tr>\n",
       "    <tr>\n",
       "      <th>1</th>\n",
       "      <td>2955066</td>\n",
       "      <td>4.734221e+18</td>\n",
       "      <td>2016-05-01 20:44:16</td>\n",
       "      <td>88.388361</td>\n",
       "      <td>22.660325</td>\n",
       "      <td>Calcutta</td>\n",
       "      <td>WestBengal</td>\n",
       "    </tr>\n",
       "    <tr>\n",
       "      <th>2</th>\n",
       "      <td>605968</td>\n",
       "      <td>-3.264500e+18</td>\n",
       "      <td>2016-05-02 14:23:04</td>\n",
       "      <td>77.256809</td>\n",
       "      <td>28.757906</td>\n",
       "      <td>Delhi</td>\n",
       "      <td>Delhi</td>\n",
       "    </tr>\n",
       "    <tr>\n",
       "      <th>3</th>\n",
       "      <td>448114</td>\n",
       "      <td>5.731369e+18</td>\n",
       "      <td>2016-05-03 13:21:16</td>\n",
       "      <td>80.343613</td>\n",
       "      <td>13.153332</td>\n",
       "      <td>Chennai</td>\n",
       "      <td>TamilNadu</td>\n",
       "    </tr>\n",
       "    <tr>\n",
       "      <th>4</th>\n",
       "      <td>665740</td>\n",
       "      <td>3.388880e+17</td>\n",
       "      <td>2016-05-06 03:51:05</td>\n",
       "      <td>85.997745</td>\n",
       "      <td>23.842609</td>\n",
       "      <td>Bokaro</td>\n",
       "      <td>Jharkhand</td>\n",
       "    </tr>\n",
       "  </tbody>\n",
       "</table>\n",
       "</div>"
      ],
      "text/plain": [
       "   Event_ID     Device_ID            Timestamp  Longitude   Latitude  \\\n",
       "0   2765368  2.973348e+18  2016-05-07 22:52:05  77.225676  28.730140   \n",
       "1   2955066  4.734221e+18  2016-05-01 20:44:16  88.388361  22.660325   \n",
       "2    605968 -3.264500e+18  2016-05-02 14:23:04  77.256809  28.757906   \n",
       "3    448114  5.731369e+18  2016-05-03 13:21:16  80.343613  13.153332   \n",
       "4    665740  3.388880e+17  2016-05-06 03:51:05  85.997745  23.842609   \n",
       "\n",
       "       City       State  \n",
       "0     Delhi       Delhi  \n",
       "1  Calcutta  WestBengal  \n",
       "2     Delhi       Delhi  \n",
       "3   Chennai   TamilNadu  \n",
       "4    Bokaro   Jharkhand  "
      ]
     },
     "execution_count": 22,
     "metadata": {},
     "output_type": "execute_result"
    }
   ],
   "source": [
    "events_data.head()"
   ]
  },
  {
   "cell_type": "code",
   "execution_count": 23,
   "metadata": {},
   "outputs": [
    {
     "name": "stdout",
     "output_type": "stream",
     "text": [
      "<class 'pandas.core.frame.DataFrame'>\n",
      "RangeIndex: 3252950 entries, 0 to 3252949\n",
      "Data columns (total 7 columns):\n",
      " #   Column     Dtype  \n",
      "---  ------     -----  \n",
      " 0   Event_ID   int64  \n",
      " 1   Device_ID  float64\n",
      " 2   Timestamp  object \n",
      " 3   Longitude  float64\n",
      " 4   Latitude   float64\n",
      " 5   City       object \n",
      " 6   State      object \n",
      "dtypes: float64(3), int64(1), object(3)\n",
      "memory usage: 173.7+ MB\n"
     ]
    }
   ],
   "source": [
    "events_data.info()"
   ]
  },
  {
   "cell_type": "code",
   "execution_count": 24,
   "metadata": {},
   "outputs": [
    {
     "data": {
      "text/html": [
       "<div>\n",
       "<style scoped>\n",
       "    .dataframe tbody tr th:only-of-type {\n",
       "        vertical-align: middle;\n",
       "    }\n",
       "\n",
       "    .dataframe tbody tr th {\n",
       "        vertical-align: top;\n",
       "    }\n",
       "\n",
       "    .dataframe thead th {\n",
       "        text-align: right;\n",
       "    }\n",
       "</style>\n",
       "<table border=\"1\" class=\"dataframe\">\n",
       "  <thead>\n",
       "    <tr style=\"text-align: right;\">\n",
       "      <th></th>\n",
       "      <th>Event_ID</th>\n",
       "      <th>Device_ID</th>\n",
       "      <th>Timestamp</th>\n",
       "      <th>Longitude</th>\n",
       "      <th>Latitude</th>\n",
       "      <th>City</th>\n",
       "      <th>State</th>\n",
       "    </tr>\n",
       "  </thead>\n",
       "  <tbody>\n",
       "    <tr>\n",
       "      <th>0</th>\n",
       "      <td>2765368</td>\n",
       "      <td>2.973348e+18</td>\n",
       "      <td>2016-05-07 22:52:05</td>\n",
       "      <td>77.225676</td>\n",
       "      <td>28.730140</td>\n",
       "      <td>Delhi</td>\n",
       "      <td>Delhi</td>\n",
       "    </tr>\n",
       "    <tr>\n",
       "      <th>2</th>\n",
       "      <td>605968</td>\n",
       "      <td>-3.264500e+18</td>\n",
       "      <td>2016-05-02 14:23:04</td>\n",
       "      <td>77.256809</td>\n",
       "      <td>28.757906</td>\n",
       "      <td>Delhi</td>\n",
       "      <td>Delhi</td>\n",
       "    </tr>\n",
       "    <tr>\n",
       "      <th>8</th>\n",
       "      <td>2309828</td>\n",
       "      <td>3.020769e+18</td>\n",
       "      <td>2016-05-04 09:24:50</td>\n",
       "      <td>77.263922</td>\n",
       "      <td>28.757914</td>\n",
       "      <td>Delhi</td>\n",
       "      <td>Delhi</td>\n",
       "    </tr>\n",
       "    <tr>\n",
       "      <th>13</th>\n",
       "      <td>2633127</td>\n",
       "      <td>-3.090167e+18</td>\n",
       "      <td>2016-05-05 04:42:59</td>\n",
       "      <td>77.285920</td>\n",
       "      <td>28.758381</td>\n",
       "      <td>Delhi</td>\n",
       "      <td>Delhi</td>\n",
       "    </tr>\n",
       "    <tr>\n",
       "      <th>17</th>\n",
       "      <td>2224400</td>\n",
       "      <td>7.566051e+18</td>\n",
       "      <td>2016-05-01 00:07:47</td>\n",
       "      <td>77.240478</td>\n",
       "      <td>28.715664</td>\n",
       "      <td>Delhi</td>\n",
       "      <td>Delhi</td>\n",
       "    </tr>\n",
       "  </tbody>\n",
       "</table>\n",
       "</div>"
      ],
      "text/plain": [
       "    Event_ID     Device_ID            Timestamp  Longitude   Latitude   City  \\\n",
       "0    2765368  2.973348e+18  2016-05-07 22:52:05  77.225676  28.730140  Delhi   \n",
       "2     605968 -3.264500e+18  2016-05-02 14:23:04  77.256809  28.757906  Delhi   \n",
       "8    2309828  3.020769e+18  2016-05-04 09:24:50  77.263922  28.757914  Delhi   \n",
       "13   2633127 -3.090167e+18  2016-05-05 04:42:59  77.285920  28.758381  Delhi   \n",
       "17   2224400  7.566051e+18  2016-05-01 00:07:47  77.240478  28.715664  Delhi   \n",
       "\n",
       "    State  \n",
       "0   Delhi  \n",
       "2   Delhi  \n",
       "8   Delhi  \n",
       "13  Delhi  \n",
       "17  Delhi  "
      ]
     },
     "execution_count": 24,
     "metadata": {},
     "output_type": "execute_result"
    }
   ],
   "source": [
    "delhi_events_data.head()"
   ]
  },
  {
   "cell_type": "code",
   "execution_count": 25,
   "metadata": {},
   "outputs": [
    {
     "name": "stdout",
     "output_type": "stream",
     "text": [
      "<class 'pandas.core.frame.DataFrame'>\n",
      "Int64Index: 751733 entries, 0 to 3252947\n",
      "Data columns (total 7 columns):\n",
      " #   Column     Non-Null Count   Dtype  \n",
      "---  ------     --------------   -----  \n",
      " 0   Event_ID   751733 non-null  int64  \n",
      " 1   Device_ID  751664 non-null  float64\n",
      " 2   Timestamp  751733 non-null  object \n",
      " 3   Longitude  751670 non-null  float64\n",
      " 4   Latitude   751670 non-null  float64\n",
      " 5   City       751733 non-null  object \n",
      " 6   State      751733 non-null  object \n",
      "dtypes: float64(3), int64(1), object(3)\n",
      "memory usage: 45.9+ MB\n"
     ]
    }
   ],
   "source": [
    "delhi_events_data.info()"
   ]
  },
  {
   "cell_type": "code",
   "execution_count": 26,
   "metadata": {},
   "outputs": [
    {
     "data": {
      "text/plain": [
       "Delhi                 744212\n",
       "BhalswaJahangirpur      1083\n",
       "SultanpurMajra          1030\n",
       "Deoli                   1022\n",
       "DilliCantonment          930\n",
       "Gokalpur                 927\n",
       "Tigri                    832\n",
       "RoshanPura               805\n",
       "NangloiJat               523\n",
       "NiDilli                  369\n",
       "Name: City, dtype: int64"
      ]
     },
     "execution_count": 26,
     "metadata": {},
     "output_type": "execute_result"
    }
   ],
   "source": [
    "delhi_events_data.City.value_counts()"
   ]
  },
  {
   "cell_type": "code",
   "execution_count": 27,
   "metadata": {},
   "outputs": [
    {
     "data": {
      "text/html": [
       "<div>\n",
       "<style scoped>\n",
       "    .dataframe tbody tr th:only-of-type {\n",
       "        vertical-align: middle;\n",
       "    }\n",
       "\n",
       "    .dataframe tbody tr th {\n",
       "        vertical-align: top;\n",
       "    }\n",
       "\n",
       "    .dataframe thead th {\n",
       "        text-align: right;\n",
       "    }\n",
       "</style>\n",
       "<table border=\"1\" class=\"dataframe\">\n",
       "  <thead>\n",
       "    <tr style=\"text-align: right;\">\n",
       "      <th></th>\n",
       "      <th>Devices</th>\n",
       "      <th>Gender</th>\n",
       "      <th>Age</th>\n",
       "      <th>AgeGroup</th>\n",
       "    </tr>\n",
       "  </thead>\n",
       "  <tbody>\n",
       "    <tr>\n",
       "      <th>0</th>\n",
       "      <td>-8076087639492063270</td>\n",
       "      <td>M</td>\n",
       "      <td>35</td>\n",
       "      <td>M32-38</td>\n",
       "    </tr>\n",
       "    <tr>\n",
       "      <th>1</th>\n",
       "      <td>-2897161552818060146</td>\n",
       "      <td>M</td>\n",
       "      <td>35</td>\n",
       "      <td>M32-38</td>\n",
       "    </tr>\n",
       "    <tr>\n",
       "      <th>2</th>\n",
       "      <td>-8260683887967679142</td>\n",
       "      <td>M</td>\n",
       "      <td>35</td>\n",
       "      <td>M32-38</td>\n",
       "    </tr>\n",
       "    <tr>\n",
       "      <th>3</th>\n",
       "      <td>-4938849341048082022</td>\n",
       "      <td>M</td>\n",
       "      <td>30</td>\n",
       "      <td>M29-31</td>\n",
       "    </tr>\n",
       "    <tr>\n",
       "      <th>4</th>\n",
       "      <td>245133531816851882</td>\n",
       "      <td>M</td>\n",
       "      <td>30</td>\n",
       "      <td>M29-31</td>\n",
       "    </tr>\n",
       "  </tbody>\n",
       "</table>\n",
       "</div>"
      ],
      "text/plain": [
       "               Devices Gender  Age AgeGroup\n",
       "0 -8076087639492063270      M   35   M32-38\n",
       "1 -2897161552818060146      M   35   M32-38\n",
       "2 -8260683887967679142      M   35   M32-38\n",
       "3 -4938849341048082022      M   30   M29-31\n",
       "4   245133531816851882      M   30   M29-31"
      ]
     },
     "execution_count": 27,
     "metadata": {},
     "output_type": "execute_result"
    }
   ],
   "source": [
    "gender_age_train.head()"
   ]
  },
  {
   "cell_type": "code",
   "execution_count": 28,
   "metadata": {},
   "outputs": [
    {
     "name": "stdout",
     "output_type": "stream",
     "text": [
      "<class 'pandas.core.frame.DataFrame'>\n",
      "RangeIndex: 74645 entries, 0 to 74644\n",
      "Data columns (total 4 columns):\n",
      " #   Column    Non-Null Count  Dtype \n",
      "---  ------    --------------  ----- \n",
      " 0   Devices   74645 non-null  int64 \n",
      " 1   Gender    74645 non-null  object\n",
      " 2   Age       74645 non-null  int64 \n",
      " 3   AgeGroup  74645 non-null  object\n",
      "dtypes: int64(2), object(2)\n",
      "memory usage: 2.3+ MB\n"
     ]
    }
   ],
   "source": [
    "gender_age_train.info()"
   ]
  },
  {
   "cell_type": "code",
   "execution_count": 29,
   "metadata": {},
   "outputs": [
    {
     "data": {
      "text/html": [
       "<div>\n",
       "<style scoped>\n",
       "    .dataframe tbody tr th:only-of-type {\n",
       "        vertical-align: middle;\n",
       "    }\n",
       "\n",
       "    .dataframe tbody tr th {\n",
       "        vertical-align: top;\n",
       "    }\n",
       "\n",
       "    .dataframe thead th {\n",
       "        text-align: right;\n",
       "    }\n",
       "</style>\n",
       "<table border=\"1\" class=\"dataframe\">\n",
       "  <thead>\n",
       "    <tr style=\"text-align: right;\">\n",
       "      <th></th>\n",
       "      <th>Devices</th>\n",
       "      <th>Brand</th>\n",
       "      <th>Model</th>\n",
       "      <th>BrandEng</th>\n",
       "    </tr>\n",
       "  </thead>\n",
       "  <tbody>\n",
       "    <tr>\n",
       "      <th>0</th>\n",
       "      <td>1877775838486905855</td>\n",
       "      <td>vivo</td>\n",
       "      <td>Y13</td>\n",
       "      <td>Vivo</td>\n",
       "    </tr>\n",
       "    <tr>\n",
       "      <th>1</th>\n",
       "      <td>-3766087376657242966</td>\n",
       "      <td>小米</td>\n",
       "      <td>V183</td>\n",
       "      <td>Millet</td>\n",
       "    </tr>\n",
       "    <tr>\n",
       "      <th>2</th>\n",
       "      <td>-6238937574958215831</td>\n",
       "      <td>OPPO</td>\n",
       "      <td>R7s</td>\n",
       "      <td>OPPO</td>\n",
       "    </tr>\n",
       "    <tr>\n",
       "      <th>3</th>\n",
       "      <td>8973197758510677470</td>\n",
       "      <td>三星</td>\n",
       "      <td>A368t</td>\n",
       "      <td>Samsung</td>\n",
       "    </tr>\n",
       "    <tr>\n",
       "      <th>4</th>\n",
       "      <td>-2015528097870762664</td>\n",
       "      <td>小米</td>\n",
       "      <td>红米Note2</td>\n",
       "      <td>Millet</td>\n",
       "    </tr>\n",
       "  </tbody>\n",
       "</table>\n",
       "</div>"
      ],
      "text/plain": [
       "               Devices Brand    Model BrandEng\n",
       "0  1877775838486905855  vivo      Y13     Vivo\n",
       "1 -3766087376657242966    小米     V183   Millet\n",
       "2 -6238937574958215831  OPPO      R7s     OPPO\n",
       "3  8973197758510677470    三星    A368t  Samsung\n",
       "4 -2015528097870762664    小米  红米Note2   Millet"
      ]
     },
     "execution_count": 29,
     "metadata": {},
     "output_type": "execute_result"
    }
   ],
   "source": [
    "phone_brand_device_model.head()"
   ]
  },
  {
   "cell_type": "code",
   "execution_count": 30,
   "metadata": {},
   "outputs": [
    {
     "name": "stdout",
     "output_type": "stream",
     "text": [
      "<class 'pandas.core.frame.DataFrame'>\n",
      "RangeIndex: 87726 entries, 0 to 87725\n",
      "Data columns (total 4 columns):\n",
      " #   Column    Non-Null Count  Dtype \n",
      "---  ------    --------------  ----- \n",
      " 0   Devices   87726 non-null  int64 \n",
      " 1   Brand     87726 non-null  object\n",
      " 2   Model     87726 non-null  object\n",
      " 3   BrandEng  87726 non-null  object\n",
      "dtypes: int64(1), object(3)\n",
      "memory usage: 2.7+ MB\n"
     ]
    }
   ],
   "source": [
    "phone_brand_device_model.info()"
   ]
  },
  {
   "cell_type": "code",
   "execution_count": 31,
   "metadata": {},
   "outputs": [
    {
     "data": {
      "text/plain": [
       "array(['Vivo', 'Millet', 'OPPO', 'Samsung', 'Cool', '联想 ', 'Huawei',\n",
       "       'Cage', 'Charming', 'Film', 'China Mobile', 'HTC', 'Amagatarai',\n",
       "       'Honored', 'LG', 'Osoxin', 'Quality rice', 'ZUK', 'Nubia', 'HP',\n",
       "       'Nipro', 'Beautiful map', 'Rural rice', 'Motorola', 'Messenger',\n",
       "       'hammer', 'Rich view', 'Music', 'Hisense', 'Bailun', 'Plus',\n",
       "       'Circularity', 'Haier', 'Cool than', 'Newman', 'waveguide', 'Only',\n",
       "       'Hear rhyme', 'TCL', 'Severe', 'Ai Pike', 'LOGO', 'Shallot',\n",
       "       'Fruit rice', 'ASUS', 'Onda', 'Aiyini', 'Konka', 'Best purchase',\n",
       "       'Banghua', 'Sai Bo Yuhua', 'black rice', 'Lovme', 'pioneer',\n",
       "       'E-send', 'Shenzhou', 'Nokia', 'Poire', 'Sugar', 'Vanity',\n",
       "       'European new', 'Mickey', 'Cool than Rubik', 'Blue demon',\n",
       "       'Small poplar', 'Bell Feng', 'Glutinous rice', 'Mi song',\n",
       "       'E people e', 'Simi', 'Big Q', 'Platform', 'Philips', 'Mi',\n",
       "       'Large display', 'Changhong', 'Dimension', 'Orange', 'This is',\n",
       "       'Shrimp', 'Summer new', 'Curtain', 'SUGAR', 'Ouqi', 'Century star',\n",
       "       'Smart', 'Europa', 'Base', 'Femtosecond', 'German', 'Easy to send',\n",
       "       'Google', 'Venus Digital', 'Widely believed', 'Noah',\n",
       "       'ONE THOUSAND', 'White rice', 'Cola', 'Baojiexun', 'Pros',\n",
       "       'First cloud', 'Rice', 'Rui', 'Wormfront', 'Fresh rice', 'Kelly',\n",
       "       'Only one', 'Ouvo', 'Rich rice', 'Hengyufeng', 'Ox', 'Siemens',\n",
       "       'Oeri', 'PPTV'], dtype=object)"
      ]
     },
     "execution_count": 31,
     "metadata": {},
     "output_type": "execute_result"
    }
   ],
   "source": [
    "phone_brand_device_model.BrandEng.unique()"
   ]
  },
  {
   "cell_type": "code",
   "execution_count": 32,
   "metadata": {},
   "outputs": [],
   "source": [
    "df_merge= pd.merge(phone_brand_device_model, gender_age_train, on='Devices')"
   ]
  },
  {
   "cell_type": "code",
   "execution_count": 33,
   "metadata": {},
   "outputs": [
    {
     "data": {
      "text/html": [
       "<div>\n",
       "<style scoped>\n",
       "    .dataframe tbody tr th:only-of-type {\n",
       "        vertical-align: middle;\n",
       "    }\n",
       "\n",
       "    .dataframe tbody tr th {\n",
       "        vertical-align: top;\n",
       "    }\n",
       "\n",
       "    .dataframe thead th {\n",
       "        text-align: right;\n",
       "    }\n",
       "</style>\n",
       "<table border=\"1\" class=\"dataframe\">\n",
       "  <thead>\n",
       "    <tr style=\"text-align: right;\">\n",
       "      <th></th>\n",
       "      <th>Devices</th>\n",
       "      <th>Brand</th>\n",
       "      <th>Model</th>\n",
       "      <th>BrandEng</th>\n",
       "      <th>Gender</th>\n",
       "      <th>Age</th>\n",
       "      <th>AgeGroup</th>\n",
       "    </tr>\n",
       "  </thead>\n",
       "  <tbody>\n",
       "    <tr>\n",
       "      <th>0</th>\n",
       "      <td>-4938849341048082022</td>\n",
       "      <td>三星</td>\n",
       "      <td>Galaxy S4</td>\n",
       "      <td>Samsung</td>\n",
       "      <td>M</td>\n",
       "      <td>30</td>\n",
       "      <td>M29-31</td>\n",
       "    </tr>\n",
       "    <tr>\n",
       "      <th>1</th>\n",
       "      <td>245133531816851882</td>\n",
       "      <td>SUGAR</td>\n",
       "      <td>时尚手机</td>\n",
       "      <td>SUGAR</td>\n",
       "      <td>M</td>\n",
       "      <td>30</td>\n",
       "      <td>M29-31</td>\n",
       "    </tr>\n",
       "    <tr>\n",
       "      <th>2</th>\n",
       "      <td>-8098239495777311881</td>\n",
       "      <td>小米</td>\n",
       "      <td>MI 2S</td>\n",
       "      <td>Millet</td>\n",
       "      <td>M</td>\n",
       "      <td>38</td>\n",
       "      <td>M32-38</td>\n",
       "    </tr>\n",
       "    <tr>\n",
       "      <th>3</th>\n",
       "      <td>176515041953473526</td>\n",
       "      <td>华为</td>\n",
       "      <td>G610S</td>\n",
       "      <td>Huawei</td>\n",
       "      <td>M</td>\n",
       "      <td>33</td>\n",
       "      <td>M32-38</td>\n",
       "    </tr>\n",
       "    <tr>\n",
       "      <th>4</th>\n",
       "      <td>6352067998666467520</td>\n",
       "      <td>三星</td>\n",
       "      <td>Galaxy S3</td>\n",
       "      <td>Samsung</td>\n",
       "      <td>M</td>\n",
       "      <td>32</td>\n",
       "      <td>M32-38</td>\n",
       "    </tr>\n",
       "  </tbody>\n",
       "</table>\n",
       "</div>"
      ],
      "text/plain": [
       "               Devices  Brand      Model BrandEng Gender  Age AgeGroup\n",
       "0 -4938849341048082022     三星  Galaxy S4  Samsung      M   30   M29-31\n",
       "1   245133531816851882  SUGAR       时尚手机    SUGAR      M   30   M29-31\n",
       "2 -8098239495777311881     小米      MI 2S   Millet      M   38   M32-38\n",
       "3   176515041953473526     华为      G610S   Huawei      M   33   M32-38\n",
       "4  6352067998666467520     三星  Galaxy S3  Samsung      M   32   M32-38"
      ]
     },
     "execution_count": 33,
     "metadata": {},
     "output_type": "execute_result"
    }
   ],
   "source": [
    "df_merge.head()"
   ]
  },
  {
   "cell_type": "code",
   "execution_count": 34,
   "metadata": {},
   "outputs": [
    {
     "name": "stdout",
     "output_type": "stream",
     "text": [
      "<class 'pandas.core.frame.DataFrame'>\n",
      "Int64Index: 74617 entries, 0 to 74616\n",
      "Data columns (total 7 columns):\n",
      " #   Column    Non-Null Count  Dtype \n",
      "---  ------    --------------  ----- \n",
      " 0   Devices   74617 non-null  int64 \n",
      " 1   Brand     74617 non-null  object\n",
      " 2   Model     74617 non-null  object\n",
      " 3   BrandEng  74617 non-null  object\n",
      " 4   Gender    74617 non-null  object\n",
      " 5   Age       74617 non-null  int64 \n",
      " 6   AgeGroup  74617 non-null  object\n",
      "dtypes: int64(2), object(5)\n",
      "memory usage: 4.6+ MB\n"
     ]
    }
   ],
   "source": [
    "df_merge.info()"
   ]
  },
  {
   "cell_type": "code",
   "execution_count": 35,
   "metadata": {},
   "outputs": [
    {
     "data": {
      "text/plain": [
       "M    47884\n",
       "F    26733\n",
       "Name: Gender, dtype: int64"
      ]
     },
     "execution_count": 35,
     "metadata": {},
     "output_type": "execute_result"
    }
   ],
   "source": [
    "df_merge.Gender.value_counts()"
   ]
  },
  {
   "cell_type": "code",
   "execution_count": 36,
   "metadata": {},
   "outputs": [
    {
     "data": {
      "text/plain": [
       "M23-26    9598\n",
       "M32-38    9473\n",
       "M39+      8578\n",
       "M22-      7485\n",
       "M29-31    7308\n",
       "F33-42    5558\n",
       "M27-28    5442\n",
       "F23-      5049\n",
       "F29-32    4626\n",
       "F43+      4194\n",
       "F24-26    4189\n",
       "F27-28    3117\n",
       "Name: AgeGroup, dtype: int64"
      ]
     },
     "execution_count": 36,
     "metadata": {},
     "output_type": "execute_result"
    }
   ],
   "source": [
    "df_merge.AgeGroup.value_counts()"
   ]
  },
  {
   "cell_type": "code",
   "execution_count": 180,
   "metadata": {},
   "outputs": [
    {
     "data": {
      "text/plain": [
       "26    4536\n",
       "27    4473\n",
       "29    4341\n",
       "28    4086\n",
       "25    3736\n",
       "30    3729\n",
       "24    3501\n",
       "23    3115\n",
       "22    3016\n",
       "31    2996\n",
       "21    2994\n",
       "32    2640\n",
       "34    2586\n",
       "33    2480\n",
       "20    2349\n",
       "35    2014\n",
       "37    1620\n",
       "19    1611\n",
       "36    1601\n",
       "38    1356\n",
       "39    1247\n",
       "40    1168\n",
       "42    1029\n",
       "41    1026\n",
       "43     989\n",
       "46     937\n",
       "44     922\n",
       "45     866\n",
       "18     757\n",
       "47     665\n",
       "48     654\n",
       "50     461\n",
       "49     458\n",
       "53     449\n",
       "51     416\n",
       "17     401\n",
       "52     381\n",
       "54     358\n",
       "56     213\n",
       "60     190\n",
       "62     186\n",
       "59     173\n",
       "61     172\n",
       "16     162\n",
       "63     161\n",
       "55     160\n",
       "58     142\n",
       "57     142\n",
       "64     120\n",
       "66      88\n",
       "68      85\n",
       "65      77\n",
       "67      73\n",
       "15      65\n",
       "69      61\n",
       "71      46\n",
       "72      36\n",
       "14      35\n",
       "70      30\n",
       "74      27\n",
       "76      26\n",
       "75      23\n",
       "73      18\n",
       "13      15\n",
       "80      14\n",
       "12      14\n",
       "77      13\n",
       "79      13\n",
       "78      13\n",
       "83      11\n",
       "81      10\n",
       "88       5\n",
       "10       5\n",
       "11       4\n",
       "86       4\n",
       "6        4\n",
       "85       3\n",
       "89       3\n",
       "87       3\n",
       "84       2\n",
       "82       2\n",
       "90       1\n",
       "96       1\n",
       "1        1\n",
       "94       1\n",
       "Name: Age, dtype: int64"
      ]
     },
     "execution_count": 180,
     "metadata": {},
     "output_type": "execute_result"
    }
   ],
   "source": [
    "df_merge.Age.value_counts()"
   ]
  },
  {
   "cell_type": "code",
   "execution_count": null,
   "metadata": {},
   "outputs": [],
   "source": []
  },
  {
   "cell_type": "code",
   "execution_count": null,
   "metadata": {},
   "outputs": [],
   "source": []
  },
  {
   "cell_type": "code",
   "execution_count": null,
   "metadata": {},
   "outputs": [],
   "source": []
  },
  {
   "cell_type": "code",
   "execution_count": null,
   "metadata": {},
   "outputs": [],
   "source": []
  },
  {
   "cell_type": "code",
   "execution_count": null,
   "metadata": {},
   "outputs": [],
   "source": []
  },
  {
   "cell_type": "code",
   "execution_count": null,
   "metadata": {},
   "outputs": [],
   "source": []
  },
  {
   "cell_type": "code",
   "execution_count": null,
   "metadata": {},
   "outputs": [],
   "source": []
  }
 ],
 "metadata": {
  "kernelspec": {
   "display_name": "Python 3",
   "language": "python",
   "name": "python3"
  },
  "language_info": {
   "codemirror_mode": {
    "name": "ipython",
    "version": 3
   },
   "file_extension": ".py",
   "mimetype": "text/x-python",
   "name": "python",
   "nbconvert_exporter": "python",
   "pygments_lexer": "ipython3",
   "version": "3.8.3"
  }
 },
 "nbformat": 4,
 "nbformat_minor": 4
}
